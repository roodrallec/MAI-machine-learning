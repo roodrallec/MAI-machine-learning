{
 "cells": [
  {
   "cell_type": "code",
   "execution_count": 17,
   "metadata": {},
   "outputs": [],
   "source": [
    "import scipy as sp\n",
    "from scipy.io import arff\n",
    "from cStringIO import StringIO\n",
    "import pandas\n",
    "import numpy as np\n",
    "import random\n",
    "import matplotlib.pyplot as plt\n",
    "from sklearn.cluster import KMeans\n",
    "from sklearn.datasets import make_blobs\n",
    "import sklearn.metrics.cluster as sk_cluster_m\n",
    "import sklearn.metrics as skmetrics\n",
    "from plotly.offline import download_plotlyjs, init_notebook_mode, plot, iplot\n",
    "from plotly.graph_objs import Scatter, Figure, Layout\n",
    "\n",
    "f=\"datasets/pen-based.arff\"\n",
    "data, meta = arff.loadarff(f)"
   ]
  },
  {
   "cell_type": "code",
   "execution_count": 18,
   "metadata": {},
   "outputs": [
    {
     "name": "stdout",
     "output_type": "stream",
     "text": [
      "Dataset: Pen-Based\n",
      "\ta1's type is numeric\n",
      "\ta2's type is numeric\n",
      "\ta3's type is numeric\n",
      "\ta4's type is numeric\n",
      "\ta5's type is numeric\n",
      "\ta6's type is numeric\n",
      "\ta7's type is numeric\n",
      "\ta8's type is numeric\n",
      "\ta9's type is numeric\n",
      "\ta10's type is numeric\n",
      "\ta11's type is numeric\n",
      "\ta12's type is numeric\n",
      "\ta13's type is numeric\n",
      "\ta14's type is numeric\n",
      "\ta15's type is numeric\n",
      "\ta16's type is numeric\n",
      "\ta17's type is nominal, range is ('0', '1', '2', '3', '4', '5', '6', '7', '8', '9')\n",
      "\n"
     ]
    }
   ],
   "source": [
    "print meta"
   ]
  },
  {
   "cell_type": "code",
   "execution_count": 19,
   "metadata": {},
   "outputs": [
    {
     "name": "stdout",
     "output_type": "stream",
     "text": [
      "[ ( 0.  ,  0.37,  0.17,  0.  ,  0.66,  0.01,  1.  ,  0.31,  0.96,  0.71,  0.59,  1.  ,  0.12,  0.98,  0.09,  0.59, '0')\n",
      " ( 0.  ,  0.56,  0.05,  0.14,  0.47,  0.  ,  0.86,  0.25,  1.  ,  0.66,  0.76,  1.  ,  0.34,  0.8 ,  0.06,  0.45, '0')\n",
      " ( 0.  ,  0.7 ,  0.01,  0.29,  0.37,  0.  ,  0.88,  0.05,  1.  ,  0.43,  0.78,  0.79,  0.34,  1.  ,  0.05,  0.7 , '0')\n",
      " ...,\n",
      " ( 0.97,  0.87,  0.56,  0.74,  0.34,  0.95,  0.83,  1.  ,  1.  ,  0.68,  0.88,  0.36,  0.53,  0.08,  0.  ,  0.  , '9')\n",
      " ( 0.98,  0.78,  0.44,  0.76,  0.4 ,  1.  ,  0.91,  0.98,  1.  ,  0.69,  0.79,  0.42,  0.44,  0.18,  0.  ,  0.  , '9')\n",
      " ( 0.99,  0.82,  0.66,  1.  ,  0.  ,  0.85,  0.13,  0.56,  0.84,  0.67,  1.  ,  0.68,  0.85,  0.33,  0.7 ,  0.  , '9')]\n"
     ]
    }
   ],
   "source": [
    "print data"
   ]
  },
  {
   "cell_type": "code",
   "execution_count": null,
   "metadata": {
    "collapsed": true
   },
   "outputs": [],
   "source": []
  }
 ],
 "metadata": {
  "kernelspec": {
   "display_name": "Python 2",
   "language": "python",
   "name": "python2"
  },
  "language_info": {
   "codemirror_mode": {
    "name": "ipython",
    "version": 2
   },
   "file_extension": ".py",
   "mimetype": "text/x-python",
   "name": "python",
   "nbconvert_exporter": "python",
   "pygments_lexer": "ipython2",
   "version": "2.7.13"
  }
 },
 "nbformat": 4,
 "nbformat_minor": 2
}
