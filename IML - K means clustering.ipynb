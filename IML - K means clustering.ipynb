{
 "cells": [
  {
   "cell_type": "code",
   "execution_count": 2,
   "metadata": {},
   "outputs": [],
   "source": [
    "from scipy.io.arff import loadarff\n",
    "import pandas as pd\n",
    "import numpy as np\n",
    "import math"
   ]
  },
  {
   "cell_type": "code",
   "execution_count": 180,
   "metadata": {},
   "outputs": [],
   "source": [
    "## Function Utils\n",
    "def rand_centroids(K, X):\n",
    "    # rand_centroids(K=Int, X=Float_array):\n",
    "    # Return a numpy array of size K with each element \n",
    "    # being a normally random distributed var with mu and sigma calculated \n",
    "    # from the mean and std of the data X\n",
    "    mean, std = np.mean(X, axis=0), np.std(X, axis=0)\n",
    "    clusters = [np.random.normal(mean, std) for n in range(K)]\n",
    "    return np.array(clusters)\n",
    "\n",
    "def euc_distance(X, Y):    \n",
    "    # euc_distance(X=Float_array, Y=Float_array):\n",
    "    # Returns an array of euclidean distances, \n",
    "    # for the square root of the sum of the square of the differences\n",
    "    # of array X and array Y\n",
    "    diff = X - Y[:, np.newaxis]\n",
    "    squared_diff = diff**2\n",
    "    sum_squared_diff = squared_diff.sum(axis=2)\n",
    "    return np.sqrt(sum_squared_diff)\n",
    "\n",
    "def compute_clusters(K, C, X):\n",
    "    # compute_clusters(K=Int, C=Float_array, X=Float_array)\n",
    "    # Compute the clusters for cluster size K, clusters C and data X\n",
    "    # where a new cluster is calculated as the mean of the data points \n",
    "    # which share a common nearest cluster. Repeats\n",
    "    # until the sum of the euc distances between clusters\n",
    "    # and points does not change\n",
    "    D = euc_distance(X, C)\n",
    "    CC = np.argmin(D, axis=0)\n",
    "    C = []\n",
    "    for k in range(K):\n",
    "        x = X[CC==k]\n",
    "        # ignore cluster if not closest to any\n",
    "        if (len(x) > 0):\n",
    "            C.append(x.mean(axis=0))\n",
    "        \n",
    "    C = np.array(C)    \n",
    "    D2 = euc_distance(X, C)\n",
    "    if (D.sum() == D2.sum()):\n",
    "        return C\n",
    "    else:\n",
    "        return compute_clusters(K, C, X)\n",
    "\n",
    "def k_means(K, X):\n",
    "    # k_means(K=Int, X=Float_array)\n",
    "    # K-means for clust size K on dataset X using random initialised centroids\n",
    "    C = rand_centroids(K, X)\n",
    "    return compute_clusters(K, C, X)"
   ]
  },
  {
   "cell_type": "code",
   "execution_count": 16,
   "metadata": {},
   "outputs": [],
   "source": [
    "# Load iris data set values into a numpy array\n",
    "iris = loadarff('./datasets/iris.arff')\n",
    "headers = iris[1]\n",
    "values = iris[0]\n",
    "iris_data = []\n",
    "for val in values:\n",
    "    iris_data.append([val[0], val[1], val[2], val[3]]) \n",
    "iris_data = np.array(iris_data).astype(np.float)"
   ]
  },
  {
   "cell_type": "code",
   "execution_count": 198,
   "metadata": {},
   "outputs": [
    {
     "name": "stdout",
     "output_type": "stream",
     "text": [
      "[[ 6.30103093  2.88659794  4.95876289  1.69587629]\n",
      " [ 5.00566038  3.36037736  1.56226415  0.28867925]]\n",
      "==\n",
      "[[ 5.006       3.418       1.464       0.244     ]\n",
      " [ 6.85        3.07368421  5.74210526  2.07105263]\n",
      " [ 5.9016129   2.7483871   4.39354839  1.43387097]]\n"
     ]
    }
   ],
   "source": [
    "# Perform k-means\n",
    "clust_size = 3\n",
    "result = k_means(clust_size, iris_data)\n",
    "from sklearn.cluster import KMeans\n",
    "sk_means = KMeans(n_clusters=clust_size, init='random').fit(iris_data)\n",
    "print(result)\n",
    "print('==')\n",
    "print(sk_means.cluster_centers_)"
   ]
  }
 ],
 "metadata": {
  "kernelspec": {
   "display_name": "Python 2",
   "language": "python",
   "name": "python2"
  },
  "language_info": {
   "codemirror_mode": {
    "name": "ipython",
    "version": 2
   },
   "file_extension": ".py",
   "mimetype": "text/x-python",
   "name": "python",
   "nbconvert_exporter": "python",
   "pygments_lexer": "ipython2",
   "version": "2.7.10"
  }
 },
 "nbformat": 4,
 "nbformat_minor": 2
}
